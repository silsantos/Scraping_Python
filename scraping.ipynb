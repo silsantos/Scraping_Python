{
 "cells": [
  {
   "cell_type": "markdown",
   "id": "faf19762-046f-40c8-8c0c-f69529cd6c0b",
   "metadata": {},
   "source": [
    "# Web Scraping"
   ]
  },
  {
   "cell_type": "markdown",
   "id": "11da2e83-9382-4cfe-a35d-add6170bcc3a",
   "metadata": {},
   "source": [
    "## *Web Scraping* é o termo utilizado para definir a prática de coletar automaticamente informações na Internet. Isto é feito, geralmente, por meio de programas que simulam a navegação humana na Web."
   ]
  },
  {
   "cell_type": "markdown",
   "id": "a4ba58e1-ef63-4c8b-9ce0-a81af6a2f397",
   "metadata": {},
   "source": [
    "### O [website](https://alura-site-scraping.herokuapp.com/index.php) utilizado para o treinamento foi elaborado pelo curso ALURA para fins didáticos."
   ]
  },
  {
   "cell_type": "code",
   "execution_count": 1,
   "id": "8289fce8-a9dc-4d6d-b4d3-cd527a3bb75f",
   "metadata": {},
   "outputs": [],
   "source": [
    "# Importação de bibliotecas:\n",
    "\n",
    "import bs4\n",
    "import urllib.request as urllib_request\n",
    "import pandas"
   ]
  },
  {
   "cell_type": "code",
   "execution_count": null,
   "id": "1e6f5c88-22fa-4b06-94fd-b68ced81b070",
   "metadata": {},
   "outputs": [],
   "source": []
  }
 ],
 "metadata": {
  "kernelspec": {
   "display_name": "Python 3 (ipykernel)",
   "language": "python",
   "name": "python3"
  },
  "language_info": {
   "codemirror_mode": {
    "name": "ipython",
    "version": 3
   },
   "file_extension": ".py",
   "mimetype": "text/x-python",
   "name": "python",
   "nbconvert_exporter": "python",
   "pygments_lexer": "ipython3",
   "version": "3.9.7"
  }
 },
 "nbformat": 4,
 "nbformat_minor": 5
}
