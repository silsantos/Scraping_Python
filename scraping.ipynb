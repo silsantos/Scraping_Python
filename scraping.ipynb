{
 "cells": [
  {
   "cell_type": "markdown",
   "id": "faf19762-046f-40c8-8c0c-f69529cd6c0b",
   "metadata": {},
   "source": [
    "# 1. Web Scraping"
   ]
  },
  {
   "cell_type": "markdown",
   "id": "11da2e83-9382-4cfe-a35d-add6170bcc3a",
   "metadata": {},
   "source": [
    "## *Web Scraping* é o termo utilizado para definir a prática de coletar automaticamente informações na Internet. Isto é feito, geralmente, por meio de programas que simulam a navegação humana na Web."
   ]
  },
  {
   "cell_type": "markdown",
   "id": "a4ba58e1-ef63-4c8b-9ce0-a81af6a2f397",
   "metadata": {},
   "source": [
    "### O [website](https://alura-site-scraping.herokuapp.com/index.php) utilizado para o treinamento foi elaborado pelo curso ALURA para fins didáticos.\n",
    "\n",
    "### O navegador utilizado será o [Chrome](https://www.google.com/intl/pt-BR/chrome/)."
   ]
  },
  {
   "cell_type": "code",
   "execution_count": 1,
   "id": "8289fce8-a9dc-4d6d-b4d3-cd527a3bb75f",
   "metadata": {},
   "outputs": [],
   "source": [
    "# Importação de bibliotecas:\n",
    "\n",
    "from bs4 import BeautifulSoup\n",
    "import urllib.request as urllib_request\n",
    "import pandas\n",
    "from urllib.request import Request, urlopen\n",
    "from urllib.error import URLError, HTTPError"
   ]
  },
  {
   "cell_type": "markdown",
   "id": "280b68fb-106a-4665-a0e7-3cc5edb654b0",
   "metadata": {},
   "source": [
    "***"
   ]
  },
  {
   "cell_type": "markdown",
   "id": "685af121-0431-47cf-96b8-db619dfdb918",
   "metadata": {},
   "source": [
    "# 2. Coletando dados do site Alura Motors:"
   ]
  },
  {
   "cell_type": "markdown",
   "id": "67637b01-d71b-41c0-906b-943010a716d7",
   "metadata": {},
   "source": [
    "### 2.1 Obtenção do html:"
   ]
  },
  {
   "cell_type": "code",
   "execution_count": 2,
   "id": "34a9f804-0582-4c26-b759-72e23dadf5ce",
   "metadata": {},
   "outputs": [],
   "source": [
    "url = 'https://alura-site-scraping.herokuapp.com/index.php'\n",
    "\n",
    "headers = {'User-Agent': 'Mozilla/5.0 (Windows NT 10.0; Win64; x64) AppleWebKit/537.36 (KHTML, like Gecko) Chrome/94.0.4606.61 Safari/537.36'}\n",
    "\n",
    "# Fazendo (ou tentando!), agora, a requisição:\n",
    "\n",
    "try:\n",
    "    \n",
    "    req = Request(url,headers = headers)\n",
    "    response = urlopen(req)\n",
    "\n",
    "except HTTPError as e:\n",
    "    print(e.status, e.reason)\n",
    "    \n",
    "except URLError as e:\n",
    "    print(e.reason)"
   ]
  },
  {
   "cell_type": "markdown",
   "id": "6ab93882-cbe5-4499-9761-3a5bdfd3fbd0",
   "metadata": {},
   "source": [
    "### 2.2 Criação de variáveis e do objeto BeautifulSoup:"
   ]
  },
  {
   "cell_type": "code",
   "execution_count": 3,
   "id": "f3d8e8ee-f9fb-4558-ac95-32d4769a09fd",
   "metadata": {},
   "outputs": [],
   "source": [
    "html = response.read().decode('utf-8')\n",
    "\n",
    "soup = BeautifulSoup(html, 'html.parser')"
   ]
  },
  {
   "cell_type": "code",
   "execution_count": 4,
   "id": "c96774ce-5e6c-4389-98b2-0e0936fa6f0f",
   "metadata": {},
   "outputs": [],
   "source": [
    "# Cada card (anúncio de automóvel do site) será armazenado em um dicionário\n",
    "\n",
    "card = {}\n",
    "\n",
    "# Será criada uma lista com todos os cards do site:\n",
    "\n",
    "card = []"
   ]
  },
  {
   "cell_type": "markdown",
   "id": "e4b96072-be78-4dbb-a464-9f5e4c383fed",
   "metadata": {},
   "source": [
    "### 2.3 Obtenção dos dados do primeiro CARD:"
   ]
  },
  {
   "cell_type": "code",
   "execution_count": 5,
   "id": "e2271087-2cfc-4d91-a5a8-c4c10eb18490",
   "metadata": {},
   "outputs": [
    {
     "data": {
      "text/plain": [
       "<div class=\"well card\">\n",
       "<div class=\"col-md-3 image-card\">\n",
       "<img alt=\"Foto\" height=\"155\" src=\"https://caelum-online-public.s3.amazonaws.com/1381-scraping/01/img-cars/lamborghini-aventador/lamborghini-aventador-2932196__340.jpg\" width=\"220\"/>\n",
       "</div>\n",
       "<div class=\"col-md-6 body-card\">\n",
       "<p class=\"txt-name inline\">LAMBORGHINI AVENTADOR</p>\n",
       "<p class=\"txt-category badge badge-secondary inline\">USADO</p>\n",
       "<p class=\"txt-motor\">Motor 1.8 16v</p>\n",
       "<p class=\"txt-description\">Ano 1993 - 55.286 km</p>\n",
       "<ul class=\"lst-items\">\n",
       "<li class=\"txt-items\">► 4 X 4</li>\n",
       "<li class=\"txt-items\">► Câmera de estacionamento</li>\n",
       "<li class=\"txt-items\">► Controle de tração</li>\n",
       "<li class=\"txt-items\">► Sensor de estacionamento</li>\n",
       "<li class=\"txt-items\">...</li>\n",
       "</ul>\n",
       "<p class=\"txt-location\">Belo Horizonte - MG</p>\n",
       "</div>\n",
       "<div class=\"col-md-3 value-card\">\n",
       "<div class=\"value\">\n",
       "<p class=\"txt-value\">R$ 338.000</p>\n",
       "</div>\n",
       "</div>\n",
       "</div>"
      ]
     },
     "execution_count": 5,
     "metadata": {},
     "output_type": "execute_result"
    }
   ],
   "source": [
    "anuncio = soup.find('div', {'class':'well card'})\n",
    "anuncio"
   ]
  },
  {
   "cell_type": "code",
   "execution_count": null,
   "id": "342b2ba6-030b-4878-ade6-d381d965e10a",
   "metadata": {},
   "outputs": [],
   "source": []
  }
 ],
 "metadata": {
  "kernelspec": {
   "display_name": "Python 3 (ipykernel)",
   "language": "python",
   "name": "python3"
  },
  "language_info": {
   "codemirror_mode": {
    "name": "ipython",
    "version": 3
   },
   "file_extension": ".py",
   "mimetype": "text/x-python",
   "name": "python",
   "nbconvert_exporter": "python",
   "pygments_lexer": "ipython3",
   "version": "3.9.7"
  }
 },
 "nbformat": 4,
 "nbformat_minor": 5
}
