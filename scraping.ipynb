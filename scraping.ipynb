{
 "cells": [
  {
   "cell_type": "markdown",
   "id": "faf19762-046f-40c8-8c0c-f69529cd6c0b",
   "metadata": {},
   "source": [
    "# 1. Web Scraping"
   ]
  },
  {
   "cell_type": "markdown",
   "id": "11da2e83-9382-4cfe-a35d-add6170bcc3a",
   "metadata": {},
   "source": [
    "## *Web Scraping* é o termo utilizado para definir a prática de coletar automaticamente informações na Internet. Isto é feito, geralmente, por meio de programas que simulam a navegação humana na Web."
   ]
  },
  {
   "cell_type": "markdown",
   "id": "a4ba58e1-ef63-4c8b-9ce0-a81af6a2f397",
   "metadata": {},
   "source": [
    "### O [website](https://alura-site-scraping.herokuapp.com/index.php) utilizado para o treinamento foi elaborado pelo curso ALURA para fins didáticos.\n",
    "\n",
    "### O navegador utilizado será o [Chrome](https://www.google.com/intl/pt-BR/chrome/)."
   ]
  },
  {
   "cell_type": "code",
   "execution_count": 1,
   "id": "8289fce8-a9dc-4d6d-b4d3-cd527a3bb75f",
   "metadata": {},
   "outputs": [],
   "source": [
    "# Importação de bibliotecas:\n",
    "\n",
    "from bs4 import BeautifulSoup\n",
    "import urllib.request as urllib_request\n",
    "import pandas as pd\n",
    "from urllib.request import Request, urlopen\n",
    "from urllib.error import URLError, HTTPError"
   ]
  },
  {
   "cell_type": "markdown",
   "id": "280b68fb-106a-4665-a0e7-3cc5edb654b0",
   "metadata": {},
   "source": [
    "***"
   ]
  },
  {
   "cell_type": "markdown",
   "id": "685af121-0431-47cf-96b8-db619dfdb918",
   "metadata": {},
   "source": [
    "# 2. Coletando dados do site Alura Motors:"
   ]
  },
  {
   "cell_type": "markdown",
   "id": "67637b01-d71b-41c0-906b-943010a716d7",
   "metadata": {},
   "source": [
    "### 2.1 Obtenção do html:"
   ]
  },
  {
   "cell_type": "code",
   "execution_count": 2,
   "id": "34a9f804-0582-4c26-b759-72e23dadf5ce",
   "metadata": {},
   "outputs": [],
   "source": [
    "url = 'https://alura-site-scraping.herokuapp.com/index.php'\n",
    "\n",
    "headers = {'User-Agent': 'Mozilla/5.0 (Windows NT 10.0; Win64; x64) AppleWebKit/537.36 (KHTML, like Gecko) Chrome/94.0.4606.61 Safari/537.36'}\n",
    "\n",
    "# Fazendo (ou tentando!), agora, a requisição:\n",
    "\n",
    "try:\n",
    "    \n",
    "    req = Request(url,headers = headers)\n",
    "    response = urlopen(req)\n",
    "\n",
    "except HTTPError as e:\n",
    "    print(e.status, e.reason)\n",
    "    \n",
    "except URLError as e:\n",
    "    print(e.reason)"
   ]
  },
  {
   "cell_type": "markdown",
   "id": "6ab93882-cbe5-4499-9761-3a5bdfd3fbd0",
   "metadata": {},
   "source": [
    "### 2.2 Criação de variáveis e do objeto BeautifulSoup:"
   ]
  },
  {
   "cell_type": "code",
   "execution_count": 3,
   "id": "f3d8e8ee-f9fb-4558-ac95-32d4769a09fd",
   "metadata": {},
   "outputs": [],
   "source": [
    "html = response.read().decode('utf-8')\n",
    "\n",
    "soup = BeautifulSoup(html, 'html.parser')"
   ]
  },
  {
   "cell_type": "code",
   "execution_count": 4,
   "id": "c96774ce-5e6c-4389-98b2-0e0936fa6f0f",
   "metadata": {},
   "outputs": [],
   "source": [
    "# Cada card (anúncio de automóvel do site) será armazenado em um dicionário\n",
    "\n",
    "card = {}\n",
    "\n",
    "# Será criada uma lista com todos os cards do site:\n",
    "\n",
    "cards = []"
   ]
  },
  {
   "cell_type": "markdown",
   "id": "e4b96072-be78-4dbb-a464-9f5e4c383fed",
   "metadata": {},
   "source": [
    "### 2.3 Obtenção dos dados do primeiro CARD:"
   ]
  },
  {
   "cell_type": "code",
   "execution_count": 5,
   "id": "e2271087-2cfc-4d91-a5a8-c4c10eb18490",
   "metadata": {},
   "outputs": [
    {
     "data": {
      "text/plain": [
       "<div class=\"well card\">\n",
       "<div class=\"col-md-3 image-card\">\n",
       "<img alt=\"Foto\" height=\"155\" src=\"https://caelum-online-public.s3.amazonaws.com/1381-scraping/01/img-cars/lamborghini-aventador/lamborghini-aventador-2932196__340.jpg\" width=\"220\"/>\n",
       "</div>\n",
       "<div class=\"col-md-6 body-card\">\n",
       "<p class=\"txt-name inline\">LAMBORGHINI AVENTADOR</p>\n",
       "<p class=\"txt-category badge badge-secondary inline\">USADO</p>\n",
       "<p class=\"txt-motor\">Motor 1.8 16v</p>\n",
       "<p class=\"txt-description\">Ano 1993 - 55.286 km</p>\n",
       "<ul class=\"lst-items\">\n",
       "<li class=\"txt-items\">► 4 X 4</li>\n",
       "<li class=\"txt-items\">► Câmera de estacionamento</li>\n",
       "<li class=\"txt-items\">► Controle de tração</li>\n",
       "<li class=\"txt-items\">► Sensor de estacionamento</li>\n",
       "<li class=\"txt-items\">...</li>\n",
       "</ul>\n",
       "<p class=\"txt-location\">Belo Horizonte - MG</p>\n",
       "</div>\n",
       "<div class=\"col-md-3 value-card\">\n",
       "<div class=\"value\">\n",
       "<p class=\"txt-value\">R$ 338.000</p>\n",
       "</div>\n",
       "</div>\n",
       "</div>"
      ]
     },
     "execution_count": 5,
     "metadata": {},
     "output_type": "execute_result"
    }
   ],
   "source": [
    "anuncio = soup.find('div', {'class':'well card'})\n",
    "anuncio"
   ]
  },
  {
   "cell_type": "markdown",
   "id": "fcd427b5-e468-4223-92ff-efd039212dc7",
   "metadata": {},
   "source": [
    "### 2.4 Obtenção do valor do veículo coletado no primeiro CARD:"
   ]
  },
  {
   "cell_type": "code",
   "execution_count": 6,
   "id": "c9c1dd8f-3569-445f-8749-6ac734478c6b",
   "metadata": {},
   "outputs": [
    {
     "data": {
      "text/plain": [
       "<div class=\"col-md-3 value-card\">\n",
       "<div class=\"value\">\n",
       "<p class=\"txt-value\">R$ 338.000</p>\n",
       "</div>\n",
       "</div>"
      ]
     },
     "execution_count": 6,
     "metadata": {},
     "output_type": "execute_result"
    }
   ],
   "source": [
    "anuncio.find('div', {'class': 'value-card'})"
   ]
  },
  {
   "cell_type": "code",
   "execution_count": 7,
   "id": "bdc6d61b-ce57-4425-8aab-401fc2ba5939",
   "metadata": {},
   "outputs": [
    {
     "data": {
      "text/plain": [
       "'R$ 338.000'"
      ]
     },
     "execution_count": 7,
     "metadata": {},
     "output_type": "execute_result"
    }
   ],
   "source": [
    "# Mais direto ao ponto:\n",
    "\n",
    "anuncio.find('p', {'class': 'txt-value'}).getText()"
   ]
  },
  {
   "cell_type": "markdown",
   "id": "024d3c05-6fd2-4724-9a61-2f0a720df5c6",
   "metadata": {},
   "source": [
    "### 2.5 Obtenção das informações sobre o veículo anunciado (TAGS p):"
   ]
  },
  {
   "cell_type": "code",
   "execution_count": 8,
   "id": "58ec7a99-9a65-4808-a145-00af07ff8813",
   "metadata": {},
   "outputs": [
    {
     "data": {
      "text/plain": [
       "[<p class=\"txt-name inline\">LAMBORGHINI AVENTADOR</p>,\n",
       " <p class=\"txt-category badge badge-secondary inline\">USADO</p>,\n",
       " <p class=\"txt-motor\">Motor 1.8 16v</p>,\n",
       " <p class=\"txt-description\">Ano 1993 - 55.286 km</p>,\n",
       " <p class=\"txt-location\">Belo Horizonte - MG</p>]"
      ]
     },
     "execution_count": 8,
     "metadata": {},
     "output_type": "execute_result"
    }
   ],
   "source": [
    "# Trabalhando primeiro com as TAGS do tipo p:\n",
    "\n",
    "infos = anuncio.find('div', {'class' : 'body-card'}).findAll('p')\n",
    "infos"
   ]
  },
  {
   "cell_type": "code",
   "execution_count": 9,
   "id": "90e041d1-3bea-4e9b-9d60-4328e3ddaec2",
   "metadata": {},
   "outputs": [
    {
     "name": "stdout",
     "output_type": "stream",
     "text": [
      "['txt-name', 'inline']  -  LAMBORGHINI AVENTADOR\n",
      "['txt-category', 'badge', 'badge-secondary', 'inline']  -  USADO\n",
      "['txt-motor']  -  Motor 1.8 16v\n",
      "['txt-description']  -  Ano 1993 - 55.286 km\n",
      "['txt-location']  -  Belo Horizonte - MG\n"
     ]
    }
   ],
   "source": [
    "# Criação de um for para coleta das informações do CARD:\n",
    "\n",
    "for info in infos:\n",
    "    \n",
    "    print(info.get('class'), ' - ', info.get_text())"
   ]
  },
  {
   "cell_type": "code",
   "execution_count": 10,
   "id": "d60957c0-69b8-4044-99d8-bc9c6a0c970e",
   "metadata": {},
   "outputs": [
    {
     "name": "stdout",
     "output_type": "stream",
     "text": [
      "['txt', 'name']  -  LAMBORGHINI AVENTADOR\n",
      "['txt', 'category']  -  USADO\n",
      "['txt', 'motor']  -  Motor 1.8 16v\n",
      "['txt', 'description']  -  Ano 1993 - 55.286 km\n",
      "['txt', 'location']  -  Belo Horizonte - MG\n"
     ]
    }
   ],
   "source": [
    "# Formatando a saída dos dados:\n",
    "\n",
    "for info in infos:\n",
    "    \n",
    "    print(info.get('class')[0].split('-'), ' - ', info.get_text())"
   ]
  },
  {
   "cell_type": "code",
   "execution_count": 11,
   "id": "f58b21ae-42f8-4d8c-bb3c-8ad899aa40ba",
   "metadata": {},
   "outputs": [
    {
     "name": "stdout",
     "output_type": "stream",
     "text": [
      "name  -  LAMBORGHINI AVENTADOR\n",
      "category  -  USADO\n",
      "motor  -  Motor 1.8 16v\n",
      "description  -  Ano 1993 - 55.286 km\n",
      "location  -  Belo Horizonte - MG\n"
     ]
    }
   ],
   "source": [
    "# Formatando a saída de dados:\n",
    "\n",
    "for info in infos:\n",
    "    \n",
    "    print(info.get('class')[0].split('-')[-1], ' - ', info.get_text())"
   ]
  },
  {
   "cell_type": "code",
   "execution_count": 12,
   "id": "c9d6b4b4-5aef-4b4d-918a-a9081f8b85b9",
   "metadata": {},
   "outputs": [],
   "source": [
    "# Incluindo ao dicionário CARD:\n",
    "\n",
    "for info in infos:\n",
    "    \n",
    "    card[info.get('class')[0].split('-')[-1]] = info.get_text()"
   ]
  },
  {
   "cell_type": "code",
   "execution_count": 13,
   "id": "736cfa60-5485-4604-96eb-159de40d51fd",
   "metadata": {},
   "outputs": [
    {
     "data": {
      "text/plain": [
       "{'name': 'LAMBORGHINI AVENTADOR',\n",
       " 'category': 'USADO',\n",
       " 'motor': 'Motor 1.8 16v',\n",
       " 'description': 'Ano 1993 - 55.286 km',\n",
       " 'location': 'Belo Horizonte - MG'}"
      ]
     },
     "execution_count": 13,
     "metadata": {},
     "output_type": "execute_result"
    }
   ],
   "source": [
    "card"
   ]
  },
  {
   "cell_type": "markdown",
   "id": "679012df-8237-47f3-b2ae-d124f37d7f0a",
   "metadata": {},
   "source": [
    "### 2.6 Obtenção das informações sobre o veículo anunciado (TAGS ul):"
   ]
  },
  {
   "cell_type": "code",
   "execution_count": 14,
   "id": "6e08a0f9-81a1-4783-8ea4-8e7ad878b68d",
   "metadata": {},
   "outputs": [
    {
     "data": {
      "text/plain": [
       "<ul class=\"lst-items\">\n",
       "<li class=\"txt-items\">► 4 X 4</li>\n",
       "<li class=\"txt-items\">► Câmera de estacionamento</li>\n",
       "<li class=\"txt-items\">► Controle de tração</li>\n",
       "<li class=\"txt-items\">► Sensor de estacionamento</li>\n",
       "<li class=\"txt-items\">...</li>\n",
       "</ul>"
      ]
     },
     "execution_count": 14,
     "metadata": {},
     "output_type": "execute_result"
    }
   ],
   "source": [
    "items = anuncio.find('div', {'class' : 'body-card'}).find('ul')\n",
    "items"
   ]
  },
  {
   "cell_type": "code",
   "execution_count": 15,
   "id": "cc993fcb-0516-41b1-8755-0239fdd3c64e",
   "metadata": {},
   "outputs": [
    {
     "data": {
      "text/plain": [
       "[<li class=\"txt-items\">► 4 X 4</li>,\n",
       " <li class=\"txt-items\">► Câmera de estacionamento</li>,\n",
       " <li class=\"txt-items\">► Controle de tração</li>,\n",
       " <li class=\"txt-items\">► Sensor de estacionamento</li>,\n",
       " <li class=\"txt-items\">...</li>]"
      ]
     },
     "execution_count": 15,
     "metadata": {},
     "output_type": "execute_result"
    }
   ],
   "source": [
    "# Tags li dentro da tag ul:\n",
    "\n",
    "items = anuncio.find('div', {'class' : 'body-card'}).find('ul').findAll('li')\n",
    "items"
   ]
  },
  {
   "cell_type": "code",
   "execution_count": 16,
   "id": "dc97d444-fbf4-47a8-a48a-92160fbce709",
   "metadata": {},
   "outputs": [
    {
     "data": {
      "text/plain": [
       "<li class=\"txt-items\">...</li>"
      ]
     },
     "execution_count": 16,
     "metadata": {},
     "output_type": "execute_result"
    }
   ],
   "source": [
    "# Observa-se que a última linha não contém informações (...).\n",
    "# Remoção da última linha:\n",
    "\n",
    "items.pop()"
   ]
  },
  {
   "cell_type": "code",
   "execution_count": 17,
   "id": "11a6f21e-e52d-4cc7-a54a-e3d0895f0b10",
   "metadata": {},
   "outputs": [
    {
     "name": "stdout",
     "output_type": "stream",
     "text": [
      "► 4 X 4\n",
      "► Câmera de estacionamento\n",
      "► Controle de tração\n",
      "► Sensor de estacionamento\n"
     ]
    }
   ],
   "source": [
    "# Formatando a saída dos dados:\n",
    "\n",
    "for item in items:\n",
    "    \n",
    "    print(item.getText())"
   ]
  },
  {
   "cell_type": "code",
   "execution_count": 18,
   "id": "ac388c21-838e-4088-b151-aa4b1b9b70c4",
   "metadata": {},
   "outputs": [
    {
     "name": "stdout",
     "output_type": "stream",
     "text": [
      " 4 X 4\n",
      " Câmera de estacionamento\n",
      " Controle de tração\n",
      " Sensor de estacionamento\n"
     ]
    }
   ],
   "source": [
    "# Formatando a saída dos dados:\n",
    "\n",
    "for item in items:\n",
    "    \n",
    "    print(item.getText().replace('►', ''))"
   ]
  },
  {
   "cell_type": "code",
   "execution_count": 19,
   "id": "935d21b7-0aaa-49a2-b00e-994bed701e3f",
   "metadata": {},
   "outputs": [
    {
     "data": {
      "text/plain": [
       "[' 4 X 4',\n",
       " ' Câmera de estacionamento',\n",
       " ' Controle de tração',\n",
       " ' Sensor de estacionamento']"
      ]
     },
     "execution_count": 19,
     "metadata": {},
     "output_type": "execute_result"
    }
   ],
   "source": [
    "# Criando uma lista de acessórios:\n",
    "\n",
    "acessorios = []\n",
    "\n",
    "for item in items:\n",
    "    \n",
    "    acessorios.append(item.getText().replace('►', ''))\n",
    "    \n",
    "acessorios"
   ]
  },
  {
   "cell_type": "code",
   "execution_count": 20,
   "id": "c42c7436-e38a-4a87-950c-6d572ac194bf",
   "metadata": {},
   "outputs": [],
   "source": [
    "# Colocando dentro do dicionário deste veículo:\n",
    "\n",
    "card['itens'] = acessorios"
   ]
  },
  {
   "cell_type": "code",
   "execution_count": 21,
   "id": "db11807d-d1a5-4899-b52d-23476f381640",
   "metadata": {},
   "outputs": [
    {
     "data": {
      "text/plain": [
       "{'name': 'LAMBORGHINI AVENTADOR',\n",
       " 'category': 'USADO',\n",
       " 'motor': 'Motor 1.8 16v',\n",
       " 'description': 'Ano 1993 - 55.286 km',\n",
       " 'location': 'Belo Horizonte - MG',\n",
       " 'itens': [' 4 X 4',\n",
       "  ' Câmera de estacionamento',\n",
       "  ' Controle de tração',\n",
       "  ' Sensor de estacionamento']}"
      ]
     },
     "execution_count": 21,
     "metadata": {},
     "output_type": "execute_result"
    }
   ],
   "source": [
    "card"
   ]
  },
  {
   "cell_type": "markdown",
   "id": "ff6f64dd-480c-4bf9-8d57-cfb343da226b",
   "metadata": {},
   "source": [
    "### 2.7 Criação de um dataframe para amazenagem dos dados:"
   ]
  },
  {
   "cell_type": "code",
   "execution_count": 22,
   "id": "b76ab734-5e15-44c3-9cf4-e32b05343d1f",
   "metadata": {},
   "outputs": [
    {
     "data": {
      "text/html": [
       "<div>\n",
       "<style scoped>\n",
       "    .dataframe tbody tr th:only-of-type {\n",
       "        vertical-align: middle;\n",
       "    }\n",
       "\n",
       "    .dataframe tbody tr th {\n",
       "        vertical-align: top;\n",
       "    }\n",
       "\n",
       "    .dataframe thead th {\n",
       "        text-align: right;\n",
       "    }\n",
       "</style>\n",
       "<table border=\"1\" class=\"dataframe\">\n",
       "  <thead>\n",
       "    <tr style=\"text-align: right;\">\n",
       "      <th></th>\n",
       "      <th>0</th>\n",
       "    </tr>\n",
       "  </thead>\n",
       "  <tbody>\n",
       "    <tr>\n",
       "      <th>name</th>\n",
       "      <td>LAMBORGHINI AVENTADOR</td>\n",
       "    </tr>\n",
       "    <tr>\n",
       "      <th>category</th>\n",
       "      <td>USADO</td>\n",
       "    </tr>\n",
       "    <tr>\n",
       "      <th>motor</th>\n",
       "      <td>Motor 1.8 16v</td>\n",
       "    </tr>\n",
       "    <tr>\n",
       "      <th>description</th>\n",
       "      <td>Ano 1993 - 55.286 km</td>\n",
       "    </tr>\n",
       "    <tr>\n",
       "      <th>location</th>\n",
       "      <td>Belo Horizonte - MG</td>\n",
       "    </tr>\n",
       "    <tr>\n",
       "      <th>itens</th>\n",
       "      <td>[ 4 X 4,  Câmera de estacionamento,  Controle ...</td>\n",
       "    </tr>\n",
       "  </tbody>\n",
       "</table>\n",
       "</div>"
      ],
      "text/plain": [
       "                                                             0\n",
       "name                                     LAMBORGHINI AVENTADOR\n",
       "category                                                 USADO\n",
       "motor                                            Motor 1.8 16v\n",
       "description                               Ano 1993 - 55.286 km\n",
       "location                                   Belo Horizonte - MG\n",
       "itens        [ 4 X 4,  Câmera de estacionamento,  Controle ..."
      ]
     },
     "execution_count": 22,
     "metadata": {},
     "output_type": "execute_result"
    }
   ],
   "source": [
    "# Parâmetro orient: padrão é orientar por coluna. Orientar por index vai criar uma linha pra cada index.\n",
    "\n",
    "veiculos = pd.DataFrame.from_dict(card, orient = 'index')\n",
    "veiculos"
   ]
  },
  {
   "cell_type": "code",
   "execution_count": 23,
   "id": "9ba4558e-de4b-42e4-a2b5-1fad0081e935",
   "metadata": {},
   "outputs": [
    {
     "data": {
      "text/html": [
       "<div>\n",
       "<style scoped>\n",
       "    .dataframe tbody tr th:only-of-type {\n",
       "        vertical-align: middle;\n",
       "    }\n",
       "\n",
       "    .dataframe tbody tr th {\n",
       "        vertical-align: top;\n",
       "    }\n",
       "\n",
       "    .dataframe thead th {\n",
       "        text-align: right;\n",
       "    }\n",
       "</style>\n",
       "<table border=\"1\" class=\"dataframe\">\n",
       "  <thead>\n",
       "    <tr style=\"text-align: right;\">\n",
       "      <th></th>\n",
       "      <th>name</th>\n",
       "      <th>category</th>\n",
       "      <th>motor</th>\n",
       "      <th>description</th>\n",
       "      <th>location</th>\n",
       "      <th>itens</th>\n",
       "    </tr>\n",
       "  </thead>\n",
       "  <tbody>\n",
       "    <tr>\n",
       "      <th>0</th>\n",
       "      <td>LAMBORGHINI AVENTADOR</td>\n",
       "      <td>USADO</td>\n",
       "      <td>Motor 1.8 16v</td>\n",
       "      <td>Ano 1993 - 55.286 km</td>\n",
       "      <td>Belo Horizonte - MG</td>\n",
       "      <td>[ 4 X 4,  Câmera de estacionamento,  Controle ...</td>\n",
       "    </tr>\n",
       "  </tbody>\n",
       "</table>\n",
       "</div>"
      ],
      "text/plain": [
       "                    name category          motor           description  \\\n",
       "0  LAMBORGHINI AVENTADOR    USADO  Motor 1.8 16v  Ano 1993 - 55.286 km   \n",
       "\n",
       "              location                                              itens  \n",
       "0  Belo Horizonte - MG  [ 4 X 4,  Câmera de estacionamento,  Controle ...  "
      ]
     },
     "execution_count": 23,
     "metadata": {},
     "output_type": "execute_result"
    }
   ],
   "source": [
    "# Transformar o que é linha em coluna:\n",
    "\n",
    "veiculos = pd.DataFrame.from_dict(card, orient = 'index').T\n",
    "veiculos"
   ]
  },
  {
   "cell_type": "markdown",
   "id": "0f63bcba-ff90-4773-ab0e-c97ec05f289d",
   "metadata": {},
   "source": [
    "### 2.8 Criação de um arquivo .csv para amazenamento dos dados:"
   ]
  },
  {
   "cell_type": "code",
   "execution_count": 24,
   "id": "a2889928-19fd-4182-ab90-6d429d421e1a",
   "metadata": {},
   "outputs": [],
   "source": [
    "# Transformando o dataset em arquivo csv:\n",
    "\n",
    "veiculos.to_csv('data/veiculos.csv', sep = ';', index = False, encoding = 'utf-8-sig')"
   ]
  },
  {
   "cell_type": "markdown",
   "id": "02629d56-ac9e-46e8-bfe0-685512d63ff0",
   "metadata": {},
   "source": [
    "### 2.9 Obtenção da foto do anúncio:"
   ]
  },
  {
   "cell_type": "code",
   "execution_count": 28,
   "id": "5975135f-6fa8-4b01-afb2-94471fa92c97",
   "metadata": {},
   "outputs": [
    {
     "data": {
      "text/plain": [
       "<img alt=\"Foto\" height=\"155\" src=\"https://caelum-online-public.s3.amazonaws.com/1381-scraping/01/img-cars/lamborghini-aventador/lamborghini-aventador-2932196__340.jpg\" width=\"220\"/>"
      ]
     },
     "execution_count": 28,
     "metadata": {},
     "output_type": "execute_result"
    }
   ],
   "source": [
    "image = anuncio.find('div', {'class' : 'image-card'}).find('img')\n",
    "image"
   ]
  },
  {
   "cell_type": "code",
   "execution_count": 29,
   "id": "df33a2e3-f436-4133-91d0-9cd83da36e44",
   "metadata": {},
   "outputs": [
    {
     "data": {
      "text/plain": [
       "'https://caelum-online-public.s3.amazonaws.com/1381-scraping/01/img-cars/lamborghini-aventador/lamborghini-aventador-2932196__340.jpg'"
      ]
     },
     "execution_count": 29,
     "metadata": {},
     "output_type": "execute_result"
    }
   ],
   "source": [
    "image.get('src')"
   ]
  },
  {
   "cell_type": "markdown",
   "id": "63b1b412-37e0-4d36-b7a0-45ff88aa2bc8",
   "metadata": {},
   "source": [
    "### 2.10 Rotina para acessar e salvar a foto do anúncio com seu nome original:"
   ]
  },
  {
   "cell_type": "code",
   "execution_count": 30,
   "id": "d0990139-18fe-485f-a15b-6cacec1a0b79",
   "metadata": {},
   "outputs": [
    {
     "data": {
      "text/plain": [
       "'lamborghini-aventador-2932196__340.jpg'"
      ]
     },
     "execution_count": 30,
     "metadata": {},
     "output_type": "execute_result"
    }
   ],
   "source": [
    "# Separando o nome do arquivo no src:\n",
    "\n",
    "image.get('src').split('/')[-1]"
   ]
  },
  {
   "cell_type": "code",
   "execution_count": 31,
   "id": "3f3f00f7-47f1-4d6b-ba68-7d3c45df9d66",
   "metadata": {},
   "outputs": [
    {
     "data": {
      "text/plain": [
       "('img/lamborghini-aventador-2932196__340.jpg',\n",
       " <http.client.HTTPMessage at 0x7f3ae8696be0>)"
      ]
     },
     "execution_count": 31,
     "metadata": {},
     "output_type": "execute_result"
    }
   ],
   "source": [
    "# Salvando as imagens na pasta img:\n",
    "\n",
    "from urllib.request import urlretrieve\n",
    "\n",
    "urlretrieve(image.get('src'), 'img/' + image.get('src').split('/')[-1])"
   ]
  },
  {
   "cell_type": "markdown",
   "id": "d37d69f3-b33b-4ffb-a982-de8a046ce1c5",
   "metadata": {},
   "source": [
    "***"
   ]
  },
  {
   "cell_type": "markdown",
   "id": "fee0f5fc-4597-499d-8d22-1c9fea4f6e02",
   "metadata": {},
   "source": [
    "## NOTAS:"
   ]
  },
  {
   "cell_type": "markdown",
   "id": "7d4ab555-8e02-4d3f-8b92-e9eed4436c23",
   "metadata": {},
   "source": [
    "***"
   ]
  },
  {
   "cell_type": "markdown",
   "id": "6559415f-7740-4d8a-af66-aa501ca2568b",
   "metadata": {},
   "source": [
    "### O que é preciso para coletar o VALOR de um veículo de um card:"
   ]
  },
  {
   "cell_type": "code",
   "execution_count": 25,
   "id": "000d32c3-9617-499c-9f20-39c657f8a03d",
   "metadata": {},
   "outputs": [],
   "source": [
    "# anuncio.find('p', {'class': 'txt-value'}).getText()"
   ]
  },
  {
   "cell_type": "markdown",
   "id": "4ef7f399-29a2-4718-b850-6a63af68064e",
   "metadata": {},
   "source": [
    "### O que é preciso para coletar as informações de TAG 'p' de um card:"
   ]
  },
  {
   "cell_type": "code",
   "execution_count": 26,
   "id": "0975bb0f-e037-4165-98bb-350a346882ab",
   "metadata": {},
   "outputs": [],
   "source": [
    "# Informações p:\n",
    "\n",
    "# anuncio.find('div', {'class': 'body-card'}).findAll('p')\n",
    "\n",
    "# Extração infos e armazenamento dicionario:\n",
    "\n",
    "#for info in infos:\n",
    "    \n",
    "    #card[info.get('class')[0].split('-')[-1]] = info.get_text()"
   ]
  },
  {
   "cell_type": "markdown",
   "id": "5c41d471-4599-4358-b545-a7e273d4eedf",
   "metadata": {},
   "source": [
    "### O que é preciso para coletar as informações de TAG 'ul' de um card:"
   ]
  },
  {
   "cell_type": "code",
   "execution_count": 27,
   "id": "9f3f3e15-4c56-472c-b400-ed2ad69e4956",
   "metadata": {},
   "outputs": [],
   "source": [
    "# Acessórios\n",
    "\n",
    "#items = anuncio.find('div', {'class' : 'body-card'}).find('ul').findAll('li')\n",
    "#acessorios = []\n",
    "\n",
    "#for item in items:\n",
    "    \n",
    "    #acessorios.append(item.getText().replace('►', ''))\n",
    "    \n",
    "#card['itens'] = acessorios"
   ]
  },
  {
   "cell_type": "markdown",
   "id": "2adcf378-2b49-463f-9e3f-6606885dcd46",
   "metadata": {},
   "source": [
    "### O que é preciso para coletar a imagem do anúncio e salvá-la com seu nome original:"
   ]
  },
  {
   "cell_type": "code",
   "execution_count": 32,
   "id": "0c6cfcb6-1469-423a-bb0f-b555d96dc1f7",
   "metadata": {},
   "outputs": [],
   "source": [
    "# image = anuncio.find('div', {'class' : 'image-card'}).find('img')\n",
    "# urlretrieve(image.get('src'), 'img/' + image.get('src').split('/')[-1])"
   ]
  },
  {
   "cell_type": "code",
   "execution_count": null,
   "id": "03afcda4-2f0f-4016-8808-c1ba355fbdaa",
   "metadata": {},
   "outputs": [],
   "source": []
  }
 ],
 "metadata": {
  "kernelspec": {
   "display_name": "Python 3 (ipykernel)",
   "language": "python",
   "name": "python3"
  },
  "language_info": {
   "codemirror_mode": {
    "name": "ipython",
    "version": 3
   },
   "file_extension": ".py",
   "mimetype": "text/x-python",
   "name": "python",
   "nbconvert_exporter": "python",
   "pygments_lexer": "ipython3",
   "version": "3.9.7"
  }
 },
 "nbformat": 4,
 "nbformat_minor": 5
}
