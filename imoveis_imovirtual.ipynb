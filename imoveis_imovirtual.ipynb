{
 "cells": [
  {
   "cell_type": "markdown",
   "id": "014a5767-9f51-4dae-babd-5001940562de",
   "metadata": {},
   "source": [
    "## Treinamento de Web Scraping com a biblioteca BeautifulSoup"
   ]
  },
  {
   "cell_type": "markdown",
   "id": "e62157e0-199a-45c5-8fc9-ea2b76c07372",
   "metadata": {},
   "source": [
    "### O website utilizado para o treinamento será o site da [Imobiliária Imovirtual](https://www.imovirtual.com/comprar/apartamento/viseu/) e o navegador utilizado será o [Google Chrome](https://www.google.com/intl/pt-BR/chrome/)."
   ]
  },
  {
   "cell_type": "code",
   "execution_count": 1,
   "id": "88c8a25f-e35a-42bf-8cf7-8435727dc503",
   "metadata": {},
   "outputs": [],
   "source": [
    "# Importação de bibliotecas:\n",
    "\n",
    "from bs4 import BeautifulSoup\n",
    "import urllib.request as urllib_request\n",
    "import pandas as pd\n",
    "from urllib.request import Request, urlopen\n",
    "from urllib.error import URLError, HTTPError\n",
    "import re"
   ]
  },
  {
   "cell_type": "markdown",
   "id": "331f4f9a-bd95-40d7-a1d2-41ff5ed8e84b",
   "metadata": {},
   "source": [
    "### 1. Requisição das informações:"
   ]
  },
  {
   "cell_type": "code",
   "execution_count": 2,
   "id": "f1e66fe0-f4bc-4d33-88f6-aaae2973e7e6",
   "metadata": {},
   "outputs": [],
   "source": [
    "# Realizando a requisição do HTML:\n",
    "\n",
    "url = 'https://www.imovirtual.com/comprar/apartamento/viseu/'\n",
    "\n",
    "headers = {'User-Agent': 'Mozilla/5.0 (X11; Linux x86_64) AppleWebKit/537.36 (KHTML, like Gecko) Chrome/94.0.4606.71 Safari/537.36'}\n",
    "\n",
    "try:\n",
    "    \n",
    "    req = Request(url, headers = headers, method = 'GET')\n",
    "    response = urlopen(req)\n",
    "    \n",
    "except HTTPError as e:\n",
    "    print(e.status, e.reason)\n",
    "    \n",
    "except URLError as e:\n",
    "    print(e.reason)"
   ]
  },
  {
   "cell_type": "code",
   "execution_count": 3,
   "id": "48cf4cfc-ad46-46e1-91b5-d903c7526531",
   "metadata": {},
   "outputs": [],
   "source": [
    "# Criação de variáveis e do objeto BeautifulSoup:\n",
    "\n",
    "html = response.read().decode('utf-8')\n",
    "\n",
    "soup = BeautifulSoup(html, 'html.parser')"
   ]
  },
  {
   "cell_type": "code",
   "execution_count": null,
   "id": "2619db0d-c712-471c-bd30-f6ef2e8f3afb",
   "metadata": {},
   "outputs": [],
   "source": []
  }
 ],
 "metadata": {
  "kernelspec": {
   "display_name": "Python 3",
   "language": "python",
   "name": "python3"
  },
  "language_info": {
   "codemirror_mode": {
    "name": "ipython",
    "version": 3
   },
   "file_extension": ".py",
   "mimetype": "text/x-python",
   "name": "python",
   "nbconvert_exporter": "python",
   "pygments_lexer": "ipython3",
   "version": "3.8.8"
  }
 },
 "nbformat": 4,
 "nbformat_minor": 5
}
