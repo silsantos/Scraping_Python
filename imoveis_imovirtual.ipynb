{
 "cells": [
  {
   "cell_type": "markdown",
   "id": "014a5767-9f51-4dae-babd-5001940562de",
   "metadata": {},
   "source": [
    "## Treinamento de Web Scraping com a biblioteca BeautifulSoup"
   ]
  },
  {
   "cell_type": "markdown",
   "id": "e62157e0-199a-45c5-8fc9-ea2b76c07372",
   "metadata": {},
   "source": [
    "### O website utilizado para o treinamento será o site da [Imobiliária Imovirtual](https://www.imovirtual.com/comprar/apartamento/viseu/) e o navegador utilizado será o [Google Chrome](https://www.google.com/intl/pt-BR/chrome/)."
   ]
  },
  {
   "cell_type": "code",
   "execution_count": 1,
   "id": "88c8a25f-e35a-42bf-8cf7-8435727dc503",
   "metadata": {},
   "outputs": [],
   "source": [
    "# Importação de bibliotecas:\n",
    "\n",
    "from bs4 import BeautifulSoup\n",
    "import urllib.request as urllib_request\n",
    "import pandas as pd\n",
    "from urllib.request import Request, urlopen\n",
    "from urllib.error import URLError, HTTPError\n",
    "import re"
   ]
  },
  {
   "cell_type": "markdown",
   "id": "331f4f9a-bd95-40d7-a1d2-41ff5ed8e84b",
   "metadata": {},
   "source": [
    "### 1. Requisição das informações:"
   ]
  },
  {
   "cell_type": "code",
   "execution_count": 2,
   "id": "f1e66fe0-f4bc-4d33-88f6-aaae2973e7e6",
   "metadata": {},
   "outputs": [],
   "source": [
    "# Realizando a requisição do HTML:\n",
    "\n",
    "url = 'https://www.imovirtual.com/comprar/apartamento/viseu/'\n",
    "\n",
    "headers = {'User-Agent': 'Mozilla/5.0 (X11; Linux x86_64) AppleWebKit/537.36 (KHTML, like Gecko) Chrome/94.0.4606.71 Safari/537.36'}\n",
    "\n",
    "try:\n",
    "    \n",
    "    req = Request(url, headers = headers, method = 'GET')\n",
    "    response = urlopen(req)\n",
    "    \n",
    "except HTTPError as e:\n",
    "    print(e.status, e.reason)\n",
    "    \n",
    "except URLError as e:\n",
    "    print(e.reason)"
   ]
  },
  {
   "cell_type": "code",
   "execution_count": 3,
   "id": "48cf4cfc-ad46-46e1-91b5-d903c7526531",
   "metadata": {},
   "outputs": [],
   "source": [
    "# Criação de variáveis e do objeto BeautifulSoup:\n",
    "\n",
    "html = response.read().decode('utf-8')\n",
    "\n",
    "soup = BeautifulSoup(html, 'html.parser')"
   ]
  },
  {
   "cell_type": "markdown",
   "id": "786cb088-da24-400b-a316-bca1a0385f0c",
   "metadata": {},
   "source": [
    "### 2. Tratamento preliminar da informação coletada:"
   ]
  },
  {
   "cell_type": "code",
   "execution_count": 9,
   "id": "15235c1d-6fcc-4598-8273-c96d39acbba7",
   "metadata": {},
   "outputs": [],
   "source": [
    "# Separando as informações para tirar os espaços em excesso:\n",
    "\n",
    "html = \" \".join(html.split()).replace('> <', '><')\n",
    "soup = BeautifulSoup(html, 'html.parser')"
   ]
  },
  {
   "cell_type": "markdown",
   "id": "8ec9c04b-3e50-4a83-b634-4ecf5b69da9d",
   "metadata": {},
   "source": [
    "### 3. Variáveis para armazenar a informação coletada:"
   ]
  },
  {
   "cell_type": "code",
   "execution_count": 10,
   "id": "48b67812-d569-45f6-9322-049ce1e4135c",
   "metadata": {},
   "outputs": [],
   "source": [
    "# Cada card (informações de 1 dos imóveis do site) será armazenado em um dicionário:\n",
    "\n",
    "card = {}\n",
    "\n",
    "# Será criada uma lista com todos os cards do site, isto é, cada item da lista será um card:\n",
    "# Lembrando que cada card é representado pelo dicionário acima.\n",
    "\n",
    "cards = []"
   ]
  },
  {
   "cell_type": "markdown",
   "id": "071fc343-f63d-4cec-ae82-c616ab57ac78",
   "metadata": {},
   "source": [
    "### 4. Coleta das informações de 1 card (1 anúncio):"
   ]
  },
  {
   "cell_type": "markdown",
   "id": "843b5af9-08ee-46e3-a5fc-2a6ce2787be8",
   "metadata": {},
   "source": [
    "#### 4.1 Coleta das informações referentes ao preço do imóvel:"
   ]
  },
  {
   "cell_type": "code",
   "execution_count": 14,
   "id": "31333cad-21ae-4a61-ae21-615af74d4e87",
   "metadata": {},
   "outputs": [
    {
     "data": {
      "text/plain": [
       "'130000€'"
      ]
     },
     "execution_count": 14,
     "metadata": {},
     "output_type": "execute_result"
    }
   ],
   "source": [
    "# Preço:\n",
    "\n",
    "anuncio_preco = soup.find('li', {'class':'offer-item-price'}).get_text()\n",
    "anuncio_preco.strip().replace(' ','')"
   ]
  },
  {
   "cell_type": "code",
   "execution_count": 15,
   "id": "15edabe3-4166-465d-abe7-f95b2afa54f6",
   "metadata": {},
   "outputs": [
    {
     "data": {
      "text/plain": [
       "130000"
      ]
     },
     "execution_count": 15,
     "metadata": {},
     "output_type": "execute_result"
    }
   ],
   "source": [
    "# Tratamento da informação coletada:\n",
    "\n",
    "preco=re.findall(r'[0-9]', anuncio_preco) \n",
    "preco = int(''.join(preco))\n",
    "preco"
   ]
  },
  {
   "cell_type": "code",
   "execution_count": null,
   "id": "44007bfc-8f7f-4fc6-8903-1d937c28f041",
   "metadata": {},
   "outputs": [],
   "source": []
  }
 ],
 "metadata": {
  "kernelspec": {
   "display_name": "Python 3",
   "language": "python",
   "name": "python3"
  },
  "language_info": {
   "codemirror_mode": {
    "name": "ipython",
    "version": 3
   },
   "file_extension": ".py",
   "mimetype": "text/x-python",
   "name": "python",
   "nbconvert_exporter": "python",
   "pygments_lexer": "ipython3",
   "version": "3.8.8"
  }
 },
 "nbformat": 4,
 "nbformat_minor": 5
}
