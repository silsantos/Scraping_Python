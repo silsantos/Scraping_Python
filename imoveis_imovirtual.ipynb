{
 "cells": [
  {
   "cell_type": "markdown",
   "id": "014a5767-9f51-4dae-babd-5001940562de",
   "metadata": {},
   "source": [
    "## Web Scraping com a biblioteca BeautifulSoup"
   ]
  },
  {
   "cell_type": "markdown",
   "id": "e62157e0-199a-45c5-8fc9-ea2b76c07372",
   "metadata": {},
   "source": [
    "### O website utilizado será o site da [Imobiliária Imovirtual](https://www.imovirtual.com/comprar/apartamento/viseu/) e o navegador utilizado será o [Google Chrome](https://www.google.com/intl/pt-BR/chrome/).\n",
    "\n",
    "***"
   ]
  },
  {
   "cell_type": "code",
   "execution_count": 1,
   "id": "88c8a25f-e35a-42bf-8cf7-8435727dc503",
   "metadata": {},
   "outputs": [],
   "source": [
    "# Importação de bibliotecas:\n",
    "\n",
    "from bs4 import BeautifulSoup\n",
    "import urllib.request as urllib_request\n",
    "import pandas as pd\n",
    "from urllib.request import Request, urlopen\n",
    "from urllib.error import URLError, HTTPError\n",
    "import re"
   ]
  },
  {
   "cell_type": "markdown",
   "id": "331f4f9a-bd95-40d7-a1d2-41ff5ed8e84b",
   "metadata": {},
   "source": [
    "***\n",
    "\n",
    "### 1. Requisição das informações:"
   ]
  },
  {
   "cell_type": "code",
   "execution_count": 2,
   "id": "f1e66fe0-f4bc-4d33-88f6-aaae2973e7e6",
   "metadata": {},
   "outputs": [],
   "source": [
    "# Realizando a requisição do HTML:\n",
    "\n",
    "url = 'https://www.imovirtual.com/comprar/apartamento/viseu/'\n",
    "\n",
    "headers = {'User-Agent': 'Mozilla/5.0 (X11; Linux x86_64) AppleWebKit/537.36 (KHTML, like Gecko) Chrome/94.0.4606.71 Safari/537.36'}\n",
    "\n",
    "try:\n",
    "    \n",
    "    req = Request(url, headers = headers, method = 'GET')\n",
    "    response = urlopen(req)\n",
    "    \n",
    "except HTTPError as e:\n",
    "    print(e.status, e.reason)\n",
    "    \n",
    "except URLError as e:\n",
    "    print(e.reason)"
   ]
  },
  {
   "cell_type": "code",
   "execution_count": 3,
   "id": "48cf4cfc-ad46-46e1-91b5-d903c7526531",
   "metadata": {},
   "outputs": [],
   "source": [
    "# Criação de variáveis e do objeto BeautifulSoup:\n",
    "\n",
    "html = response.read().decode('utf-8')\n",
    "\n",
    "soup = BeautifulSoup(html, 'html.parser')"
   ]
  },
  {
   "cell_type": "markdown",
   "id": "786cb088-da24-400b-a316-bca1a0385f0c",
   "metadata": {},
   "source": [
    "***\n",
    "\n",
    "### 2. Tratamento preliminar da informação coletada:"
   ]
  },
  {
   "cell_type": "code",
   "execution_count": 4,
   "id": "15235c1d-6fcc-4598-8273-c96d39acbba7",
   "metadata": {},
   "outputs": [],
   "source": [
    "# Separando as informações para tirar os espaços em excesso:\n",
    "\n",
    "\n",
    "split = html.split()\n",
    "join = \" \".join(split)\n",
    "replace = \" \".join(html.split()).replace('> <', '><')\n",
    "soup = BeautifulSoup(html, 'html.parser')"
   ]
  },
  {
   "cell_type": "markdown",
   "id": "8ec9c04b-3e50-4a83-b634-4ecf5b69da9d",
   "metadata": {},
   "source": [
    "***\n",
    "\n",
    "### 3. Variáveis para armazenar a informação coletada:"
   ]
  },
  {
   "cell_type": "code",
   "execution_count": 5,
   "id": "48b67812-d569-45f6-9322-049ce1e4135c",
   "metadata": {},
   "outputs": [],
   "source": [
    "# Cada card (informações de 1 dos imóveis do site) será armazenado em um dicionário:\n",
    "\n",
    "card = {}\n",
    "\n",
    "# Será criada uma lista com todos os cards do site, isto é, cada item da lista será um card:\n",
    "# Lembrando que cada card é representado pelo dicionário acima.\n",
    "\n",
    "cards = []"
   ]
  },
  {
   "cell_type": "markdown",
   "id": "071fc343-f63d-4cec-ae82-c616ab57ac78",
   "metadata": {},
   "source": [
    "***\n",
    "\n",
    "### 4. Coleta das informações de 1 card (1 anúncio):"
   ]
  },
  {
   "cell_type": "markdown",
   "id": "843b5af9-08ee-46e3-a5fc-2a6ce2787be8",
   "metadata": {},
   "source": [
    "#### 4.1 Coleta das informações referentes ao preço do imóvel:"
   ]
  },
  {
   "cell_type": "code",
   "execution_count": 6,
   "id": "31333cad-21ae-4a61-ae21-615af74d4e87",
   "metadata": {},
   "outputs": [
    {
     "data": {
      "text/plain": [
       "'130000€'"
      ]
     },
     "execution_count": 6,
     "metadata": {},
     "output_type": "execute_result"
    }
   ],
   "source": [
    "# Preço:\n",
    "\n",
    "anuncio_preco = soup.find('li', {'class':'offer-item-price'}).get_text()\n",
    "anuncio_preco.strip().replace(' ','')"
   ]
  },
  {
   "cell_type": "code",
   "execution_count": 7,
   "id": "15edabe3-4166-465d-abe7-f95b2afa54f6",
   "metadata": {},
   "outputs": [
    {
     "data": {
      "text/plain": [
       "130000"
      ]
     },
     "execution_count": 7,
     "metadata": {},
     "output_type": "execute_result"
    }
   ],
   "source": [
    "# Tratamento da informação coletada:\n",
    "\n",
    "preco=re.findall(r'[0-9]', anuncio_preco) \n",
    "preco = int(''.join(preco))\n",
    "preco"
   ]
  },
  {
   "cell_type": "code",
   "execution_count": 8,
   "id": "44007bfc-8f7f-4fc6-8903-1d937c28f041",
   "metadata": {},
   "outputs": [
    {
     "data": {
      "text/plain": [
       "'165 m²'"
      ]
     },
     "execution_count": 8,
     "metadata": {},
     "output_type": "execute_result"
    }
   ],
   "source": [
    "# Área:\n",
    "\n",
    "anuncio_area = soup.find('li', {'class':'hidden-xs offer-item-area'}).get_text()\n",
    "anuncio_area"
   ]
  },
  {
   "cell_type": "markdown",
   "id": "c7c5d7a5-7603-4dcd-9049-05a58e8e4177",
   "metadata": {},
   "source": [
    "#### 4.1 Funções de formatação:"
   ]
  },
  {
   "cell_type": "code",
   "execution_count": 9,
   "id": "3cf7e452-7697-4b22-854d-6f28dc21fc2b",
   "metadata": {},
   "outputs": [],
   "source": [
    "# Definição de função par tratamento de informações - texto >> numeral:\n",
    "\n",
    "def texto_numero(texto):\n",
    "    numero = re.findall(r'[0-9]', texto)\n",
    "    numero = int(''.join(numero))\n",
    "    return numero"
   ]
  },
  {
   "cell_type": "code",
   "execution_count": 10,
   "id": "a00de25d-8eb0-451c-814a-cc7d069be82b",
   "metadata": {},
   "outputs": [
    {
     "data": {
      "text/plain": [
       "165"
      ]
     },
     "execution_count": 10,
     "metadata": {},
     "output_type": "execute_result"
    }
   ],
   "source": [
    "# Conversão da informação em formato texto para o formato numérico conveniente:\n",
    "\n",
    "area = texto_numero(anuncio_area)\n",
    "area"
   ]
  },
  {
   "cell_type": "code",
   "execution_count": 11,
   "id": "b2e575e1-bdff-47b8-a1db-4be2940302a0",
   "metadata": {},
   "outputs": [
    {
     "data": {
      "text/plain": [
       "'788 €/m²'"
      ]
     },
     "execution_count": 11,
     "metadata": {},
     "output_type": "execute_result"
    }
   ],
   "source": [
    "# Preço por metro quadrado:\n",
    "\n",
    "anuncio_m2 = soup.find('li', {'class':'hidden-xs offer-item-price-per-m'}).get_text()\n",
    "anuncio_m2"
   ]
  },
  {
   "cell_type": "code",
   "execution_count": 12,
   "id": "c52c64a6-7573-493f-adc4-4bdba31739a9",
   "metadata": {},
   "outputs": [
    {
     "data": {
      "text/plain": [
       "788"
      ]
     },
     "execution_count": 12,
     "metadata": {},
     "output_type": "execute_result"
    }
   ],
   "source": [
    "# Conversão da informação em formato texto para o formato numérico conveniente:\n",
    "\n",
    "preco_m2 = texto_numero(anuncio_m2)\n",
    "preco_m2"
   ]
  },
  {
   "cell_type": "code",
   "execution_count": 13,
   "id": "fd2f89d0-ea47-4c75-8849-929014697d6a",
   "metadata": {},
   "outputs": [
    {
     "data": {
      "text/plain": [
       "'T4'"
      ]
     },
     "execution_count": 13,
     "metadata": {},
     "output_type": "execute_result"
    }
   ],
   "source": [
    "# Quantidade de quartos:\n",
    "\n",
    "anuncio_quartos = soup.find('li', {'class':'offer-item-rooms hidden-xs'}).get_text()\n",
    "anuncio_quartos"
   ]
  },
  {
   "cell_type": "code",
   "execution_count": 14,
   "id": "97988c96-af66-406e-9283-2ae94b3439fe",
   "metadata": {},
   "outputs": [
    {
     "data": {
      "text/plain": [
       "4"
      ]
     },
     "execution_count": 14,
     "metadata": {},
     "output_type": "execute_result"
    }
   ],
   "source": [
    "# Conversão da informação em formato texto para o formato numérico conveniente:\n",
    "\n",
    "quartos = texto_numero(anuncio_quartos)\n",
    "quartos"
   ]
  },
  {
   "cell_type": "code",
   "execution_count": 15,
   "id": "4eb8441d-3c47-4967-8c3b-34ea1e3a93ae",
   "metadata": {},
   "outputs": [
    {
     "data": {
      "text/plain": [
       "' Casas de Banho: 4 ou mais Usado '"
      ]
     },
     "execution_count": 15,
     "metadata": {},
     "output_type": "execute_result"
    }
   ],
   "source": [
    "anuncio_comp = soup.find('ul', {'class': 'parameters-view hidden-xs'}).get_text()\n",
    "anuncio_comp.replace('\\n', ' ').split()\n",
    "anuncio_2 = anuncio_comp.replace('\\n', ' ')\n",
    "anuncio_2"
   ]
  },
  {
   "cell_type": "code",
   "execution_count": 16,
   "id": "89ab9752-741e-409d-bf08-c25dec8fb168",
   "metadata": {},
   "outputs": [
    {
     "data": {
      "text/plain": [
       "4"
      ]
     },
     "execution_count": 16,
     "metadata": {},
     "output_type": "execute_result"
    }
   ],
   "source": [
    "banheiros = texto_numero(anuncio_2)\n",
    "banheiros"
   ]
  },
  {
   "cell_type": "code",
   "execution_count": 17,
   "id": "7f66952f-91c6-47ae-a252-74b041927388",
   "metadata": {},
   "outputs": [
    {
     "data": {
      "text/plain": [
       "'Usado'"
      ]
     },
     "execution_count": 17,
     "metadata": {},
     "output_type": "execute_result"
    }
   ],
   "source": [
    "# Status do apartamento:\n",
    "\n",
    "status = anuncio_2.replace('\\n', ' ').split()[-1]\n",
    "status"
   ]
  },
  {
   "cell_type": "markdown",
   "id": "0427cb1b-ba40-4e44-bc7a-56615b3f3d02",
   "metadata": {},
   "source": [
    "***\n",
    "\n",
    "### 5. Criação do dicionário do 1º anúncio:"
   ]
  },
  {
   "cell_type": "code",
   "execution_count": 18,
   "id": "9de56bd4-a1cd-407e-b468-3dbfe77a4113",
   "metadata": {},
   "outputs": [],
   "source": [
    "card['area'] = area"
   ]
  },
  {
   "cell_type": "code",
   "execution_count": 19,
   "id": "b8b72a0e-c390-4527-bba7-c14cd6588c26",
   "metadata": {},
   "outputs": [],
   "source": [
    "card['quartos'] = quartos"
   ]
  },
  {
   "cell_type": "code",
   "execution_count": 20,
   "id": "1f3a89da-f86e-4c01-b85a-6e8a9f19b6de",
   "metadata": {},
   "outputs": [],
   "source": [
    "card['banheiros'] = banheiros "
   ]
  },
  {
   "cell_type": "code",
   "execution_count": 21,
   "id": "da57a524-4081-4bd0-8c34-1a96cff81da9",
   "metadata": {},
   "outputs": [],
   "source": [
    "card['preco'] = preco"
   ]
  },
  {
   "cell_type": "code",
   "execution_count": 22,
   "id": "1d88d4e6-4c26-4e98-92e9-f9bfc9ef954a",
   "metadata": {},
   "outputs": [],
   "source": [
    "card['preco_m2'] = preco_m2"
   ]
  },
  {
   "cell_type": "code",
   "execution_count": 23,
   "id": "62e055c1-8bc9-4357-a8ea-f05186e29dbb",
   "metadata": {},
   "outputs": [],
   "source": [
    "card['status'] = status"
   ]
  },
  {
   "cell_type": "code",
   "execution_count": 24,
   "id": "9178039f-0552-434c-99ec-66d599ecc9ad",
   "metadata": {},
   "outputs": [
    {
     "data": {
      "text/plain": [
       "{'area': 165,\n",
       " 'quartos': 4,\n",
       " 'banheiros': 4,\n",
       " 'preco': 130000,\n",
       " 'preco_m2': 788,\n",
       " 'status': 'Usado'}"
      ]
     },
     "execution_count": 24,
     "metadata": {},
     "output_type": "execute_result"
    }
   ],
   "source": [
    "card"
   ]
  },
  {
   "cell_type": "code",
   "execution_count": null,
   "id": "c92b05f8-f6f4-4973-9eb7-f3f284e9013e",
   "metadata": {},
   "outputs": [],
   "source": []
  },
  {
   "cell_type": "code",
   "execution_count": null,
   "id": "4711af4d-c876-42a0-b63f-0e0c68d3dcaf",
   "metadata": {},
   "outputs": [],
   "source": []
  }
 ],
 "metadata": {
  "kernelspec": {
   "display_name": "Python 3",
   "language": "python",
   "name": "python3"
  },
  "language_info": {
   "codemirror_mode": {
    "name": "ipython",
    "version": 3
   },
   "file_extension": ".py",
   "mimetype": "text/x-python",
   "name": "python",
   "nbconvert_exporter": "python",
   "pygments_lexer": "ipython3",
   "version": "3.8.8"
  }
 },
 "nbformat": 4,
 "nbformat_minor": 5
}
